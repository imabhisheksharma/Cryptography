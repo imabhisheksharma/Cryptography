{
  "nbformat": 4,
  "nbformat_minor": 0,
  "metadata": {
    "colab": {
      "provenance": []
    },
    "kernelspec": {
      "name": "python3",
      "display_name": "Python 3"
    },
    "language_info": {
      "name": "python"
    }
  },
  "cells": [
    {
      "cell_type": "code",
      "execution_count": 4,
      "metadata": {
        "id": "hSRP9OAVxawp"
      },
      "outputs": [],
      "source": [
        "import math\n",
        "import random\n",
        "\n",
        "\n",
        "def is_prime(p):\n",
        "  for i in range(2, math.isqrt(p)):\n",
        "    if p % i == 0:\n",
        "      return False\n",
        "  return True"
      ]
    },
    {
      "cell_type": "code",
      "source": [
        "def get_prime(size):\n",
        "  while True:\n",
        "    p = random.randrange(size, 2*size)\n",
        "    if is_prime(p):\n",
        "      return p"
      ],
      "metadata": {
        "id": "Jil2kHGcxfFx"
      },
      "execution_count": 5,
      "outputs": []
    },
    {
      "cell_type": "code",
      "source": [
        "def is_generator(g, p):\n",
        "  for i in range(1, p - 1):\n",
        "    if (g**i) % p == 1:\n",
        "      return False\n",
        "  return True"
      ],
      "metadata": {
        "id": "k8fGxARlx2qn"
      },
      "execution_count": 6,
      "outputs": []
    },
    {
      "cell_type": "code",
      "source": [
        "def get_generator(p):\n",
        "  for g in range(2, p):\n",
        "    if is_generator(g, p):\n",
        "      return g"
      ],
      "metadata": {
        "id": "DCRJUpQgyD7j"
      },
      "execution_count": 7,
      "outputs": []
    },
    {
      "cell_type": "code",
      "source": [
        "# public (green)\n",
        "p = get_prime(10000)\n",
        "g = get_generator(p)\n",
        "print(g, p)"
      ],
      "metadata": {
        "colab": {
          "base_uri": "https://localhost:8080/"
        },
        "id": "HXSvgwCNyI8m",
        "outputId": "b2bc0918-608d-4802-e133-edd8604fd497"
      },
      "execution_count": 8,
      "outputs": [
        {
          "output_type": "stream",
          "name": "stdout",
          "text": [
            "7 11497\n"
          ]
        }
      ]
    },
    {
      "cell_type": "code",
      "source": [
        "# Alice\n",
        "a = random.randrange(0, p)\n",
        "g_a = (g**a) % p\n",
        "# Alice sends this out in the public\n",
        "print(\"Alice : g_a\", g_a)\n"
      ],
      "metadata": {
        "colab": {
          "base_uri": "https://localhost:8080/"
        },
        "id": "STkZGFeKyNrg",
        "outputId": "68eb0481-4754-41e9-9510-98ae62a25914"
      },
      "execution_count": 9,
      "outputs": [
        {
          "output_type": "stream",
          "name": "stdout",
          "text": [
            "Alice : g_a 6203\n"
          ]
        }
      ]
    },
    {
      "cell_type": "code",
      "source": [
        "# Bob\n",
        "b = random.randrange(0, p)\n",
        "g_b = (g**b) % p\n",
        "# Bob sends this out in the public\n",
        "print(\"Bob : g_b\", g_b)"
      ],
      "metadata": {
        "colab": {
          "base_uri": "https://localhost:8080/"
        },
        "id": "Grd2qP4RyOfU",
        "outputId": "18569a1c-ee9c-4b19-822f-6b46f193ef4c"
      },
      "execution_count": 10,
      "outputs": [
        {
          "output_type": "stream",
          "name": "stdout",
          "text": [
            "Bob : g_b 8086\n"
          ]
        }
      ]
    },
    {
      "cell_type": "code",
      "source": [
        "# Back to Alice\n",
        "g_ab_alice = (g_b**a) % p\n",
        "print(\"Alice g_ab\", g_ab_alice)"
      ],
      "metadata": {
        "colab": {
          "base_uri": "https://localhost:8080/"
        },
        "id": "MUjNiGhtyQ3w",
        "outputId": "e4d11183-8c6f-4667-96c2-df867fd87cc8"
      },
      "execution_count": 11,
      "outputs": [
        {
          "output_type": "stream",
          "name": "stdout",
          "text": [
            "Alice g_ab 11003\n"
          ]
        }
      ]
    },
    {
      "cell_type": "code",
      "source": [
        "# Back to Bob\n",
        "g_ab_bob = (g_a**b) % p\n",
        "print(\"Bob g_ab\", g_ab_bob)"
      ],
      "metadata": {
        "colab": {
          "base_uri": "https://localhost:8080/"
        },
        "id": "pJfVn6mxySsF",
        "outputId": "2e0a772c-8619-47f2-e628-ec24c172cee7"
      },
      "execution_count": 12,
      "outputs": [
        {
          "output_type": "stream",
          "name": "stdout",
          "text": [
            "Bob g_ab 11003\n"
          ]
        }
      ]
    },
    {
      "cell_type": "code",
      "source": [],
      "metadata": {
        "id": "RKVvxPzCyUTh"
      },
      "execution_count": null,
      "outputs": []
    }
  ]
}