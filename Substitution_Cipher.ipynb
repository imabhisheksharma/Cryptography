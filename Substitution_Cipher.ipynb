{
  "nbformat": 4,
  "nbformat_minor": 0,
  "metadata": {
    "colab": {
      "provenance": []
    },
    "kernelspec": {
      "name": "python3",
      "display_name": "Python 3"
    },
    "language_info": {
      "name": "python"
    }
  },
  "cells": [
    {
      "cell_type": "code",
      "execution_count": null,
      "metadata": {
        "id": "tdX-mr8vkBb0"
      },
      "outputs": [],
      "source": [
        "from itertools import permutations"
      ]
    },
    {
      "cell_type": "code",
      "source": [
        "my_list = [1, 2, 3, 4]"
      ],
      "metadata": {
        "id": "nt0LNFpbIYO-"
      },
      "execution_count": null,
      "outputs": []
    },
    {
      "cell_type": "code",
      "source": [
        "list_of_permutations = permutations(my_list)"
      ],
      "metadata": {
        "id": "-wYC7cDUIhJm"
      },
      "execution_count": null,
      "outputs": []
    },
    {
      "cell_type": "code",
      "source": [
        "list_of_permutations"
      ],
      "metadata": {
        "colab": {
          "base_uri": "https://localhost:8080/"
        },
        "id": "-cTMPAmNIsAf",
        "outputId": "8ae3dabc-8a8c-45aa-ccd9-94b7a794b1c4"
      },
      "execution_count": null,
      "outputs": [
        {
          "output_type": "execute_result",
          "data": {
            "text/plain": [
              "<itertools.permutations at 0x79daf24cabb0>"
            ]
          },
          "metadata": {},
          "execution_count": 4
        }
      ]
    },
    {
      "cell_type": "code",
      "source": [
        "count = 0\n",
        "for permutation in list_of_permutations:\n",
        "  print(permutation)\n",
        "  count = count + 1"
      ],
      "metadata": {
        "colab": {
          "base_uri": "https://localhost:8080/"
        },
        "id": "1V_K0tLjIuEA",
        "outputId": "19e66dc7-8852-4a51-a2e7-b5489e68c50f"
      },
      "execution_count": null,
      "outputs": [
        {
          "output_type": "stream",
          "name": "stdout",
          "text": [
            "(1, 2, 3, 4)\n",
            "(1, 2, 4, 3)\n",
            "(1, 3, 2, 4)\n",
            "(1, 3, 4, 2)\n",
            "(1, 4, 2, 3)\n",
            "(1, 4, 3, 2)\n",
            "(2, 1, 3, 4)\n",
            "(2, 1, 4, 3)\n",
            "(2, 3, 1, 4)\n",
            "(2, 3, 4, 1)\n",
            "(2, 4, 1, 3)\n",
            "(2, 4, 3, 1)\n",
            "(3, 1, 2, 4)\n",
            "(3, 1, 4, 2)\n",
            "(3, 2, 1, 4)\n",
            "(3, 2, 4, 1)\n",
            "(3, 4, 1, 2)\n",
            "(3, 4, 2, 1)\n",
            "(4, 1, 2, 3)\n",
            "(4, 1, 3, 2)\n",
            "(4, 2, 1, 3)\n",
            "(4, 2, 3, 1)\n",
            "(4, 3, 1, 2)\n",
            "(4, 3, 2, 1)\n"
          ]
        }
      ]
    },
    {
      "cell_type": "code",
      "source": [
        "print(count)"
      ],
      "metadata": {
        "colab": {
          "base_uri": "https://localhost:8080/"
        },
        "id": "ahGQpdhII4E4",
        "outputId": "f8729db5-8eb2-441e-b49f-b6d8dc2ad954"
      },
      "execution_count": null,
      "outputs": [
        {
          "output_type": "stream",
          "name": "stdout",
          "text": [
            "24\n"
          ]
        }
      ]
    },
    {
      "cell_type": "code",
      "source": [
        "def faculty(n):\n",
        "  if n == 1:\n",
        "    return 1\n",
        "  else:\n",
        "    return faculty(n-1)*n"
      ],
      "metadata": {
        "id": "mUg8F5YCJSko"
      },
      "execution_count": null,
      "outputs": []
    },
    {
      "cell_type": "code",
      "source": [
        "def counter(n):\n",
        "  cnt = 0\n",
        "  for i in range(n):\n",
        "    cnt += 1\n",
        "  return cnt"
      ],
      "metadata": {
        "id": "DaLuB-bVN9uI"
      },
      "execution_count": null,
      "outputs": []
    },
    {
      "cell_type": "code",
      "source": [
        "for i in range(1, 53):\n",
        "  print(faculty(i))"
      ],
      "metadata": {
        "colab": {
          "base_uri": "https://localhost:8080/"
        },
        "id": "AmYd0lvwKhgL",
        "outputId": "9822579a-ca8d-4bcd-8de7-27a30b6dda6a"
      },
      "execution_count": null,
      "outputs": [
        {
          "output_type": "stream",
          "name": "stdout",
          "text": [
            "1\n",
            "2\n",
            "6\n",
            "24\n",
            "120\n",
            "720\n",
            "5040\n",
            "40320\n",
            "362880\n",
            "3628800\n",
            "39916800\n",
            "479001600\n",
            "6227020800\n",
            "87178291200\n",
            "1307674368000\n",
            "20922789888000\n",
            "355687428096000\n",
            "6402373705728000\n",
            "121645100408832000\n",
            "2432902008176640000\n",
            "51090942171709440000\n",
            "1124000727777607680000\n",
            "25852016738884976640000\n",
            "620448401733239439360000\n",
            "15511210043330985984000000\n",
            "403291461126605635584000000\n",
            "10888869450418352160768000000\n",
            "304888344611713860501504000000\n",
            "8841761993739701954543616000000\n",
            "265252859812191058636308480000000\n",
            "8222838654177922817725562880000000\n",
            "263130836933693530167218012160000000\n",
            "8683317618811886495518194401280000000\n",
            "295232799039604140847618609643520000000\n",
            "10333147966386144929666651337523200000000\n",
            "371993326789901217467999448150835200000000\n",
            "13763753091226345046315979581580902400000000\n",
            "523022617466601111760007224100074291200000000\n",
            "20397882081197443358640281739902897356800000000\n",
            "815915283247897734345611269596115894272000000000\n",
            "33452526613163807108170062053440751665152000000000\n",
            "1405006117752879898543142606244511569936384000000000\n",
            "60415263063373835637355132068513997507264512000000000\n",
            "2658271574788448768043625811014615890319638528000000000\n",
            "119622220865480194561963161495657715064383733760000000000\n",
            "5502622159812088949850305428800254892961651752960000000000\n",
            "258623241511168180642964355153611979969197632389120000000000\n",
            "12413915592536072670862289047373375038521486354677760000000000\n",
            "608281864034267560872252163321295376887552831379210240000000000\n",
            "30414093201713378043612608166064768844377641568960512000000000000\n",
            "1551118753287382280224243016469303211063259720016986112000000000000\n",
            "80658175170943878571660636856403766975289505440883277824000000000000\n"
          ]
        }
      ]
    },
    {
      "cell_type": "code",
      "source": [
        "import cProfile"
      ],
      "metadata": {
        "id": "V9dW2fE8KrJ4"
      },
      "execution_count": null,
      "outputs": []
    },
    {
      "cell_type": "code",
      "source": [
        "def faculty(n):\n",
        "  if n == 1:\n",
        "    return 1\n",
        "  else:\n",
        "    return faculty(n-1)*n\n",
        "\n",
        "def counter(n):\n",
        "  cnt = 0\n",
        "  for i in range(n):\n",
        "    cnt += 1\n",
        "  return cnt"
      ],
      "metadata": {
        "id": "TLmpbWGVOTs2"
      },
      "execution_count": null,
      "outputs": []
    },
    {
      "cell_type": "code",
      "source": [
        "# Substitution Ciper"
      ],
      "metadata": {
        "id": "qfdzFUbROnSC"
      },
      "execution_count": null,
      "outputs": []
    },
    {
      "cell_type": "code",
      "source": [
        "import random"
      ],
      "metadata": {
        "id": "mNUNbKR4Q6PP"
      },
      "execution_count": null,
      "outputs": []
    },
    {
      "cell_type": "code",
      "source": [
        "def generate_key():\n",
        "  letters = \"ABCDEFGHIJKLMNOPQRSTUVWXYZ\"\n",
        "  cletters = list(letters)\n",
        "  key = {}\n",
        "  for c in letters:\n",
        "    key[c] = cletters.pop(random.randint(0, len(cletters)-1))\n",
        "  return key"
      ],
      "metadata": {
        "id": "UEcBxyK9Rep-"
      },
      "execution_count": null,
      "outputs": []
    },
    {
      "cell_type": "code",
      "source": [
        "key = generate_key()"
      ],
      "metadata": {
        "id": "ws5RvmQHR-ZW"
      },
      "execution_count": null,
      "outputs": []
    },
    {
      "cell_type": "code",
      "source": [
        "print(key)"
      ],
      "metadata": {
        "colab": {
          "base_uri": "https://localhost:8080/"
        },
        "id": "urJ3hcD_SDmS",
        "outputId": "7f423407-59ad-49a9-82bb-ba201c8a6fd0"
      },
      "execution_count": null,
      "outputs": [
        {
          "output_type": "stream",
          "name": "stdout",
          "text": [
            "{'A': 'Y', 'B': 'E', 'C': 'X', 'D': 'F', 'E': 'K', 'F': 'G', 'G': 'O', 'H': 'R', 'I': 'S', 'J': 'P', 'K': 'A', 'L': 'W', 'M': 'B', 'N': 'T', 'O': 'H', 'P': 'C', 'Q': 'J', 'R': 'L', 'S': 'N', 'T': 'U', 'U': 'I', 'V': 'D', 'W': 'V', 'X': 'Q', 'Y': 'Z', 'Z': 'M'}\n"
          ]
        }
      ]
    },
    {
      "cell_type": "code",
      "source": [
        "def encrypt(key, message):\n",
        "  cipher = \"\"\n",
        "  for c in message:\n",
        "    if c in key:\n",
        "      cipher += key[c]\n",
        "    else:\n",
        "      cipher += c\n",
        "  return cipher"
      ],
      "metadata": {
        "id": "A91yJvJ5SFeY"
      },
      "execution_count": null,
      "outputs": []
    },
    {
      "cell_type": "code",
      "source": [
        "key = generate_key()\n",
        "message = \"YOU ARE AWESOME\"\n",
        "cipher = encrypt(key, message)\n",
        "print(cipher)"
      ],
      "metadata": {
        "colab": {
          "base_uri": "https://localhost:8080/"
        },
        "id": "JeQtItUuSl4B",
        "outputId": "ced44ddd-26b2-4f85-a5d9-6f1470edae33"
      },
      "execution_count": null,
      "outputs": [
        {
          "output_type": "stream",
          "name": "stdout",
          "text": [
            "VPA LYB LHBRPGB\n"
          ]
        }
      ]
    },
    {
      "cell_type": "code",
      "source": [
        "def get_decrypt_key(key):\n",
        "  dkey = {}\n",
        "  for k in key:\n",
        "    dkey[key[k]] = k\n",
        "  return dkey\n"
      ],
      "metadata": {
        "id": "ceZTXrtmS1UY"
      },
      "execution_count": null,
      "outputs": []
    },
    {
      "cell_type": "code",
      "source": [
        "dkey = get_decrypt_key(key)\n",
        "message = encrypt(dkey, cipher)\n",
        "print(message)"
      ],
      "metadata": {
        "colab": {
          "base_uri": "https://localhost:8080/"
        },
        "id": "kXJ3fAxhTn0T",
        "outputId": "84524aac-7efa-4349-af14-52a86d8b9e8b"
      },
      "execution_count": null,
      "outputs": [
        {
          "output_type": "stream",
          "name": "stdout",
          "text": [
            "YOU ARE AWESOME\n"
          ]
        }
      ]
    },
    {
      "cell_type": "code",
      "source": [
        "# Frequency Analysis"
      ],
      "metadata": {
        "id": "ORnUHz7PTxZY"
      },
      "execution_count": null,
      "outputs": []
    },
    {
      "cell_type": "code",
      "source": [
        "import operator\n",
        "import sys\n",
        "\n",
        "cipher = \"\"\"lrvmnir bpr sumvbwvr jx bpr lmiwv yjeryrkbi jx qmbm wi\n",
        "bpr xjvni mkd ymibrut jx irhx wi bpr riirkvr jx\n",
        "ymbinlmtmipw utn qmumbr dj w ipmhh but bj rhnvwdmbr bpr\n",
        "yjeryrkbi jx bpr qmbm mvvjudwko bj yt wkbrusurbmbwjk\n",
        "lmird jk xjubt trmui jx ibndt\n",
        "  wb wi kjb mk rmit bmiq bj rashmwk rmvp yjeryrkb mkd wbi\n",
        "iwokwxwvmkvr mkd ijyr ynib urymwk nkrashmwkrd bj ower m\n",
        "vjyshrbr rashmkmbwjk jkr cjnhd pmer bj lr fnmhwxwrd mkd\n",
        "wkiswurd bj invp mk rabrkb bpmb pr vjnhd urmvp bpr ibmbr\n",
        "jx rkhwopbrkrd ywkd vmsmlhr jx urvjokwgwko ijnkdhrii\n",
        "ijnkd mkd ipmsrhrii ipmsr w dj kjb drry ytirhx bpr xwkmh\n",
        "mnbpjuwbt lnb yt rasruwrkvr cwbp qmbm pmi hrxb kj djnlb\n",
        "bpmb bpr xjhhjcwko wi bpr sujsru msshwvmbwjk mkd\n",
        "wkbrusurbmbwjk w jxxru yt bprjuwri wk bpr pjsr bpmb bpr\n",
        "riirkvr jx jqwkmcmk qmumbr cwhh urymwk wkbmvb\"\"\"\n",
        "\n",
        "\n",
        "class Attack:\n",
        "    def __init__(self):\n",
        "        self.alphabet = \"abcdefghijklmnopqrstuvwxyz\"\n",
        "        self.plain_chars_left =  \"abcdefghijklmnopqrstuvwxyz\"\n",
        "        self.cipher_chars_left =  \"abcdefghijklmnopqrstuvwxyz\"\n",
        "        self.freq = {}\n",
        "        self.key = {}\n",
        "        self.freq_eng = {'a': 0.0817, 'b': 0.0150, 'c': 0.0278, 'd': 0.0425, 'e': 0.1270, 'f': 0.0223,\n",
        "               'g': 0.0202, 'h': 0.0609, 'i': 0.0697, 'j': 0.0015, 'k': 0.0077, 'l': 0.0403,\n",
        "               'm': 0.0241, 'n': 0.0675, 'o': 0.0751, 'p': 0.0193, 'q': 0.0010, 'r': 0.0599,\n",
        "               's': 0.0633, 't': 0.0906, 'u': 0.0276, 'v': 0.0098, 'w': 0.0236, 'x': 0.0015,\n",
        "               'y': 0.0197, 'z': 0.0007}\n",
        "        self.mappings = {}\n",
        "\n",
        "\n",
        "\n",
        "    def calculate_freq(self, cipher):\n",
        "        for c in self.alphabet:\n",
        "            self.freq[c] = 0\n",
        "\n",
        "        letter_count = 0\n",
        "        for c in cipher:\n",
        "            if c in self.freq:\n",
        "                self.freq[c] += 1\n",
        "                letter_count += 1\n",
        "\n",
        "        for c in self.freq:\n",
        "            self.freq[c] = round(self.freq[c]/letter_count, 4)\n",
        "\n",
        "    def print_freq(self):\n",
        "        new_line_count = 0\n",
        "        for c in self.freq:\n",
        "            print(c, ':', self.freq[c],' ', end='')\n",
        "            if new_line_count % 3 == 2:\n",
        "                print()\n",
        "            new_line_count += 1\n",
        "\n",
        "    def calculate_matches(self):\n",
        "        for cipher_char in self.alphabet:\n",
        "            map = {}\n",
        "            for plain_char in self.alphabet:\n",
        "                map[plain_char] = round(abs(self.freq[cipher_char] - self.freq_eng[plain_char]), 4)\n",
        "            self.mappings[cipher_char] = sorted(map.items(), key=operator.itemgetter(1))\n",
        "\n",
        "\n",
        "    def set_key_mapping(self, cipher_char, plain_char):\n",
        "      if cipher_char not in self.cipher_chars_left or plain_char not in self.plain_chars_left:\n",
        "        print(\"ERROR: key mapping error\", cipher_char, plain_char)\n",
        "        sys.exit(-1)\n",
        "      self.key[cipher_char] = plain_char\n",
        "      self.plain_chars_left = self.plain_chars_left.replace(plain_char, \"\")\n",
        "      self.cipher_chars_left = self.cipher_chars_left.replace(cipher_char, \"\")\n",
        "\n",
        "\n",
        "    def guess_key(self):\n",
        "\n",
        "        for cipher_char in self.cipher_chars_left:\n",
        "          for plain_char, diff in self.mappings[cipher_char]:\n",
        "            if plain_char in self.plain_chars_left:\n",
        "              self.key[cipher_char] = plain_char\n",
        "              self.plain_chars_left = self.plain_chars_left.replace(plain_char, \"\")\n",
        "              break\n",
        "\n",
        "    def get_key(self):\n",
        "      return self.key\n",
        "\n",
        "    def decrypt(self, key, cipher):\n",
        "      message = \"\"\n",
        "      for c in cipher:\n",
        "        if c in key:\n",
        "          message += key[c]\n",
        "        else:\n",
        "          message += c\n",
        "      return message\n",
        "\n"
      ],
      "metadata": {
        "id": "OWXFEOjEWGyw"
      },
      "execution_count": null,
      "outputs": []
    },
    {
      "cell_type": "code",
      "source": [
        "attack = Attack()"
      ],
      "metadata": {
        "id": "Clqzig7EXkgz"
      },
      "execution_count": null,
      "outputs": []
    },
    {
      "cell_type": "code",
      "source": [
        "attack.calculate_freq(cipher)"
      ],
      "metadata": {
        "id": "LEr8QBNudEwu"
      },
      "execution_count": null,
      "outputs": []
    },
    {
      "cell_type": "code",
      "source": [
        "attack.print_freq()"
      ],
      "metadata": {
        "colab": {
          "base_uri": "https://localhost:8080/"
        },
        "id": "fbPF2VTddJO5",
        "outputId": "928eceff-834d-4fb8-a75f-ec130c5ff73d"
      },
      "execution_count": null,
      "outputs": [
        {
          "output_type": "stream",
          "name": "stdout",
          "text": [
            "a : 0.0077  b : 0.1053  c : 0.0077  \n",
            "d : 0.0356  e : 0.0077  f : 0.0015  \n",
            "g : 0.0015  h : 0.0356  i : 0.0635  \n",
            "j : 0.0743  k : 0.0759  l : 0.0124  \n",
            "m : 0.096  n : 0.0263  o : 0.0108  \n",
            "p : 0.0464  q : 0.0108  r : 0.13  \n",
            "s : 0.0263  t : 0.0201  u : 0.0372  \n",
            "v : 0.0341  w : 0.0728  x : 0.031  \n",
            "y : 0.0294  z : 0.0  "
          ]
        }
      ]
    },
    {
      "cell_type": "code",
      "source": [
        "attack.calculate_matches()"
      ],
      "metadata": {
        "id": "irfKlxKpWgg7"
      },
      "execution_count": null,
      "outputs": []
    },
    {
      "cell_type": "code",
      "source": [
        "for c in attack.mappings:\n",
        "  print(c, attack.mappings[c])"
      ],
      "metadata": {
        "colab": {
          "base_uri": "https://localhost:8080/"
        },
        "id": "L6KeP3p2wHxX",
        "outputId": "bd3038fc-59ea-4033-a87a-fbf2d6f94e3f"
      },
      "execution_count": null,
      "outputs": [
        {
          "output_type": "stream",
          "name": "stdout",
          "text": [
            "a [('k', 0.0), ('v', 0.0021), ('j', 0.0062), ('x', 0.0062), ('q', 0.0067), ('z', 0.007), ('b', 0.0073), ('p', 0.0116), ('y', 0.012), ('g', 0.0125), ('f', 0.0146), ('w', 0.0159), ('m', 0.0164), ('u', 0.0199), ('c', 0.0201), ('l', 0.0326), ('d', 0.0348), ('r', 0.0522), ('h', 0.0532), ('s', 0.0556), ('n', 0.0598), ('i', 0.062), ('o', 0.0674), ('a', 0.074), ('t', 0.0829), ('e', 0.1193)]\n",
            "b [('t', 0.0147), ('e', 0.0217), ('a', 0.0236), ('o', 0.0302), ('i', 0.0356), ('n', 0.0378), ('s', 0.042), ('h', 0.0444), ('r', 0.0454), ('d', 0.0628), ('l', 0.065), ('c', 0.0775), ('u', 0.0777), ('m', 0.0812), ('w', 0.0817), ('f', 0.083), ('g', 0.0851), ('y', 0.0856), ('p', 0.086), ('b', 0.0903), ('v', 0.0955), ('k', 0.0976), ('j', 0.1038), ('x', 0.1038), ('q', 0.1043), ('z', 0.1046)]\n",
            "c [('k', 0.0), ('v', 0.0021), ('j', 0.0062), ('x', 0.0062), ('q', 0.0067), ('z', 0.007), ('b', 0.0073), ('p', 0.0116), ('y', 0.012), ('g', 0.0125), ('f', 0.0146), ('w', 0.0159), ('m', 0.0164), ('u', 0.0199), ('c', 0.0201), ('l', 0.0326), ('d', 0.0348), ('r', 0.0522), ('h', 0.0532), ('s', 0.0556), ('n', 0.0598), ('i', 0.062), ('o', 0.0674), ('a', 0.074), ('t', 0.0829), ('e', 0.1193)]\n",
            "d [('l', 0.0047), ('d', 0.0069), ('c', 0.0078), ('u', 0.008), ('m', 0.0115), ('w', 0.012), ('f', 0.0133), ('g', 0.0154), ('y', 0.0159), ('p', 0.0163), ('b', 0.0206), ('r', 0.0243), ('h', 0.0253), ('v', 0.0258), ('s', 0.0277), ('k', 0.0279), ('n', 0.0319), ('i', 0.0341), ('j', 0.0341), ('x', 0.0341), ('q', 0.0346), ('z', 0.0349), ('o', 0.0395), ('a', 0.0461), ('t', 0.055), ('e', 0.0914)]\n",
            "e [('k', 0.0), ('v', 0.0021), ('j', 0.0062), ('x', 0.0062), ('q', 0.0067), ('z', 0.007), ('b', 0.0073), ('p', 0.0116), ('y', 0.012), ('g', 0.0125), ('f', 0.0146), ('w', 0.0159), ('m', 0.0164), ('u', 0.0199), ('c', 0.0201), ('l', 0.0326), ('d', 0.0348), ('r', 0.0522), ('h', 0.0532), ('s', 0.0556), ('n', 0.0598), ('i', 0.062), ('o', 0.0674), ('a', 0.074), ('t', 0.0829), ('e', 0.1193)]\n",
            "f [('j', 0.0), ('x', 0.0), ('q', 0.0005), ('z', 0.0008), ('k', 0.0062), ('v', 0.0083), ('b', 0.0135), ('p', 0.0178), ('y', 0.0182), ('g', 0.0187), ('f', 0.0208), ('w', 0.0221), ('m', 0.0226), ('u', 0.0261), ('c', 0.0263), ('l', 0.0388), ('d', 0.041), ('r', 0.0584), ('h', 0.0594), ('s', 0.0618), ('n', 0.066), ('i', 0.0682), ('o', 0.0736), ('a', 0.0802), ('t', 0.0891), ('e', 0.1255)]\n",
            "g [('j', 0.0), ('x', 0.0), ('q', 0.0005), ('z', 0.0008), ('k', 0.0062), ('v', 0.0083), ('b', 0.0135), ('p', 0.0178), ('y', 0.0182), ('g', 0.0187), ('f', 0.0208), ('w', 0.0221), ('m', 0.0226), ('u', 0.0261), ('c', 0.0263), ('l', 0.0388), ('d', 0.041), ('r', 0.0584), ('h', 0.0594), ('s', 0.0618), ('n', 0.066), ('i', 0.0682), ('o', 0.0736), ('a', 0.0802), ('t', 0.0891), ('e', 0.1255)]\n",
            "h [('l', 0.0047), ('d', 0.0069), ('c', 0.0078), ('u', 0.008), ('m', 0.0115), ('w', 0.012), ('f', 0.0133), ('g', 0.0154), ('y', 0.0159), ('p', 0.0163), ('b', 0.0206), ('r', 0.0243), ('h', 0.0253), ('v', 0.0258), ('s', 0.0277), ('k', 0.0279), ('n', 0.0319), ('i', 0.0341), ('j', 0.0341), ('x', 0.0341), ('q', 0.0346), ('z', 0.0349), ('o', 0.0395), ('a', 0.0461), ('t', 0.055), ('e', 0.0914)]\n",
            "i [('s', 0.0002), ('h', 0.0026), ('r', 0.0036), ('n', 0.004), ('i', 0.0062), ('o', 0.0116), ('a', 0.0182), ('d', 0.021), ('l', 0.0232), ('t', 0.0271), ('c', 0.0357), ('u', 0.0359), ('m', 0.0394), ('w', 0.0399), ('f', 0.0412), ('g', 0.0433), ('y', 0.0438), ('p', 0.0442), ('b', 0.0485), ('v', 0.0537), ('k', 0.0558), ('j', 0.062), ('x', 0.062), ('q', 0.0625), ('z', 0.0628), ('e', 0.0635)]\n",
            "j [('o', 0.0008), ('i', 0.0046), ('n', 0.0068), ('a', 0.0074), ('s', 0.011), ('h', 0.0134), ('r', 0.0144), ('t', 0.0163), ('d', 0.0318), ('l', 0.034), ('c', 0.0465), ('u', 0.0467), ('m', 0.0502), ('w', 0.0507), ('f', 0.052), ('e', 0.0527), ('g', 0.0541), ('y', 0.0546), ('p', 0.055), ('b', 0.0593), ('v', 0.0645), ('k', 0.0666), ('j', 0.0728), ('x', 0.0728), ('q', 0.0733), ('z', 0.0736)]\n",
            "k [('o', 0.0008), ('a', 0.0058), ('i', 0.0062), ('n', 0.0084), ('s', 0.0126), ('t', 0.0147), ('h', 0.015), ('r', 0.016), ('d', 0.0334), ('l', 0.0356), ('c', 0.0481), ('u', 0.0483), ('e', 0.0511), ('m', 0.0518), ('w', 0.0523), ('f', 0.0536), ('g', 0.0557), ('y', 0.0562), ('p', 0.0566), ('b', 0.0609), ('v', 0.0661), ('k', 0.0682), ('j', 0.0744), ('x', 0.0744), ('q', 0.0749), ('z', 0.0752)]\n",
            "l [('b', 0.0026), ('v', 0.0026), ('k', 0.0047), ('p', 0.0069), ('y', 0.0073), ('g', 0.0078), ('f', 0.0099), ('j', 0.0109), ('x', 0.0109), ('w', 0.0112), ('q', 0.0114), ('m', 0.0117), ('z', 0.0117), ('u', 0.0152), ('c', 0.0154), ('l', 0.0279), ('d', 0.0301), ('r', 0.0475), ('h', 0.0485), ('s', 0.0509), ('n', 0.0551), ('i', 0.0573), ('o', 0.0627), ('a', 0.0693), ('t', 0.0782), ('e', 0.1146)]\n",
            "m [('t', 0.0054), ('a', 0.0143), ('o', 0.0209), ('i', 0.0263), ('n', 0.0285), ('e', 0.031), ('s', 0.0327), ('h', 0.0351), ('r', 0.0361), ('d', 0.0535), ('l', 0.0557), ('c', 0.0682), ('u', 0.0684), ('m', 0.0719), ('w', 0.0724), ('f', 0.0737), ('g', 0.0758), ('y', 0.0763), ('p', 0.0767), ('b', 0.081), ('v', 0.0862), ('k', 0.0883), ('j', 0.0945), ('x', 0.0945), ('q', 0.095), ('z', 0.0953)]\n",
            "n [('u', 0.0013), ('c', 0.0015), ('m', 0.0022), ('w', 0.0027), ('f', 0.004), ('g', 0.0061), ('y', 0.0066), ('p', 0.007), ('b', 0.0113), ('l', 0.014), ('d', 0.0162), ('v', 0.0165), ('k', 0.0186), ('j', 0.0248), ('x', 0.0248), ('q', 0.0253), ('z', 0.0256), ('r', 0.0336), ('h', 0.0346), ('s', 0.037), ('n', 0.0412), ('i', 0.0434), ('o', 0.0488), ('a', 0.0554), ('t', 0.0643), ('e', 0.1007)]\n",
            "o [('v', 0.001), ('k', 0.0031), ('b', 0.0042), ('p', 0.0085), ('y', 0.0089), ('j', 0.0093), ('x', 0.0093), ('g', 0.0094), ('q', 0.0098), ('z', 0.0101), ('f', 0.0115), ('w', 0.0128), ('m', 0.0133), ('u', 0.0168), ('c', 0.017), ('l', 0.0295), ('d', 0.0317), ('r', 0.0491), ('h', 0.0501), ('s', 0.0525), ('n', 0.0567), ('i', 0.0589), ('o', 0.0643), ('a', 0.0709), ('t', 0.0798), ('e', 0.1162)]\n",
            "p [('d', 0.0039), ('l', 0.0061), ('r', 0.0135), ('h', 0.0145), ('s', 0.0169), ('c', 0.0186), ('u', 0.0188), ('n', 0.0211), ('m', 0.0223), ('w', 0.0228), ('i', 0.0233), ('f', 0.0241), ('g', 0.0262), ('y', 0.0267), ('p', 0.0271), ('o', 0.0287), ('b', 0.0314), ('a', 0.0353), ('v', 0.0366), ('k', 0.0387), ('t', 0.0442), ('j', 0.0449), ('x', 0.0449), ('q', 0.0454), ('z', 0.0457), ('e', 0.0806)]\n",
            "q [('v', 0.001), ('k', 0.0031), ('b', 0.0042), ('p', 0.0085), ('y', 0.0089), ('j', 0.0093), ('x', 0.0093), ('g', 0.0094), ('q', 0.0098), ('z', 0.0101), ('f', 0.0115), ('w', 0.0128), ('m', 0.0133), ('u', 0.0168), ('c', 0.017), ('l', 0.0295), ('d', 0.0317), ('r', 0.0491), ('h', 0.0501), ('s', 0.0525), ('n', 0.0567), ('i', 0.0589), ('o', 0.0643), ('a', 0.0709), ('t', 0.0798), ('e', 0.1162)]\n",
            "r [('e', 0.003), ('t', 0.0394), ('a', 0.0483), ('o', 0.0549), ('i', 0.0603), ('n', 0.0625), ('s', 0.0667), ('h', 0.0691), ('r', 0.0701), ('d', 0.0875), ('l', 0.0897), ('c', 0.1022), ('u', 0.1024), ('m', 0.1059), ('w', 0.1064), ('f', 0.1077), ('g', 0.1098), ('y', 0.1103), ('p', 0.1107), ('b', 0.115), ('v', 0.1202), ('k', 0.1223), ('j', 0.1285), ('x', 0.1285), ('q', 0.129), ('z', 0.1293)]\n",
            "s [('u', 0.0013), ('c', 0.0015), ('m', 0.0022), ('w', 0.0027), ('f', 0.004), ('g', 0.0061), ('y', 0.0066), ('p', 0.007), ('b', 0.0113), ('l', 0.014), ('d', 0.0162), ('v', 0.0165), ('k', 0.0186), ('j', 0.0248), ('x', 0.0248), ('q', 0.0253), ('z', 0.0256), ('r', 0.0336), ('h', 0.0346), ('s', 0.037), ('n', 0.0412), ('i', 0.0434), ('o', 0.0488), ('a', 0.0554), ('t', 0.0643), ('e', 0.1007)]\n",
            "t [('g', 0.0001), ('y', 0.0004), ('p', 0.0008), ('f', 0.0022), ('w', 0.0035), ('m', 0.004), ('b', 0.0051), ('u', 0.0075), ('c', 0.0077), ('v', 0.0103), ('k', 0.0124), ('j', 0.0186), ('x', 0.0186), ('q', 0.0191), ('z', 0.0194), ('l', 0.0202), ('d', 0.0224), ('r', 0.0398), ('h', 0.0408), ('s', 0.0432), ('n', 0.0474), ('i', 0.0496), ('o', 0.055), ('a', 0.0616), ('t', 0.0705), ('e', 0.1069)]\n",
            "u [('l', 0.0031), ('d', 0.0053), ('c', 0.0094), ('u', 0.0096), ('m', 0.0131), ('w', 0.0136), ('f', 0.0149), ('g', 0.017), ('y', 0.0175), ('p', 0.0179), ('b', 0.0222), ('r', 0.0227), ('h', 0.0237), ('s', 0.0261), ('v', 0.0274), ('k', 0.0295), ('n', 0.0303), ('i', 0.0325), ('j', 0.0357), ('x', 0.0357), ('q', 0.0362), ('z', 0.0365), ('o', 0.0379), ('a', 0.0445), ('t', 0.0534), ('e', 0.0898)]\n",
            "v [('l', 0.0062), ('c', 0.0063), ('u', 0.0065), ('d', 0.0084), ('m', 0.01), ('w', 0.0105), ('f', 0.0118), ('g', 0.0139), ('y', 0.0144), ('p', 0.0148), ('b', 0.0191), ('v', 0.0243), ('r', 0.0258), ('k', 0.0264), ('h', 0.0268), ('s', 0.0292), ('j', 0.0326), ('x', 0.0326), ('q', 0.0331), ('n', 0.0334), ('z', 0.0334), ('i', 0.0356), ('o', 0.041), ('a', 0.0476), ('t', 0.0565), ('e', 0.0929)]\n",
            "w [('o', 0.0023), ('i', 0.0031), ('n', 0.0053), ('a', 0.0089), ('s', 0.0095), ('h', 0.0119), ('r', 0.0129), ('t', 0.0178), ('d', 0.0303), ('l', 0.0325), ('c', 0.045), ('u', 0.0452), ('m', 0.0487), ('w', 0.0492), ('f', 0.0505), ('g', 0.0526), ('y', 0.0531), ('p', 0.0535), ('e', 0.0542), ('b', 0.0578), ('v', 0.063), ('k', 0.0651), ('j', 0.0713), ('x', 0.0713), ('q', 0.0718), ('z', 0.0721)]\n",
            "x [('c', 0.0032), ('u', 0.0034), ('m', 0.0069), ('w', 0.0074), ('f', 0.0087), ('l', 0.0093), ('g', 0.0108), ('y', 0.0113), ('d', 0.0115), ('p', 0.0117), ('b', 0.016), ('v', 0.0212), ('k', 0.0233), ('r', 0.0289), ('j', 0.0295), ('x', 0.0295), ('h', 0.0299), ('q', 0.03), ('z', 0.0303), ('s', 0.0323), ('n', 0.0365), ('i', 0.0387), ('o', 0.0441), ('a', 0.0507), ('t', 0.0596), ('e', 0.096)]\n",
            "y [('c', 0.0016), ('u', 0.0018), ('m', 0.0053), ('w', 0.0058), ('f', 0.0071), ('g', 0.0092), ('y', 0.0097), ('p', 0.0101), ('l', 0.0109), ('d', 0.0131), ('b', 0.0144), ('v', 0.0196), ('k', 0.0217), ('j', 0.0279), ('x', 0.0279), ('q', 0.0284), ('z', 0.0287), ('r', 0.0305), ('h', 0.0315), ('s', 0.0339), ('n', 0.0381), ('i', 0.0403), ('o', 0.0457), ('a', 0.0523), ('t', 0.0612), ('e', 0.0976)]\n",
            "z [('z', 0.0007), ('q', 0.001), ('j', 0.0015), ('x', 0.0015), ('k', 0.0077), ('v', 0.0098), ('b', 0.015), ('p', 0.0193), ('y', 0.0197), ('g', 0.0202), ('f', 0.0223), ('w', 0.0236), ('m', 0.0241), ('u', 0.0276), ('c', 0.0278), ('l', 0.0403), ('d', 0.0425), ('r', 0.0599), ('h', 0.0609), ('s', 0.0633), ('n', 0.0675), ('i', 0.0697), ('o', 0.0751), ('a', 0.0817), ('t', 0.0906), ('e', 0.127)]\n"
          ]
        }
      ]
    },
    {
      "cell_type": "code",
      "source": [
        "attack.set_key_mapping(\"r\", \"e\")\n",
        "attack.set_key_mapping(\"p\", \"h\")\n",
        "attack.set_key_mapping(\"v\", \"c\")\n",
        "attack.set_key_mapping(\"m\", \"a\")\n",
        "attack.set_key_mapping(\"w\", \"i\")\n",
        "attack.set_key_mapping(\"t\", \"y\")"
      ],
      "metadata": {
        "id": "e3wPVwdn6fch"
      },
      "execution_count": null,
      "outputs": []
    },
    {
      "cell_type": "code",
      "source": [
        "attack.guess_key()\n",
        "key = attack.get_key()"
      ],
      "metadata": {
        "id": "5j3y0kNVwK8e"
      },
      "execution_count": null,
      "outputs": []
    },
    {
      "cell_type": "code",
      "source": [
        "print(key)"
      ],
      "metadata": {
        "colab": {
          "base_uri": "https://localhost:8080/"
        },
        "id": "4mi1q89lxduy",
        "outputId": "048b5354-4b79-4a36-e809-f7a1083b87f4"
      },
      "execution_count": null,
      "outputs": [
        {
          "output_type": "stream",
          "name": "stdout",
          "text": [
            "{'r': 'e', 'p': 'h', 'v': 'c', 'm': 'a', 'w': 'i', 't': 'y', 'a': 'k', 'b': 't', 'c': 'v', 'd': 'l', 'e': 'j', 'f': 'x', 'g': 'q', 'h': 'd', 'i': 's', 'j': 'o', 'k': 'n', 'l': 'b', 'n': 'u', 'o': 'p', 'q': 'g', 's': 'm', 'u': 'w', 'x': 'f', 'y': 'z', 'z': 'r'}\n"
          ]
        }
      ]
    },
    {
      "cell_type": "code",
      "source": [
        "message = attack.decrypt(key, cipher)\n",
        "message_lines = message.splitlines()\n",
        "cipher_lines = cipher.splitlines()\n",
        "for i in range(len(message_lines)):\n",
        "  print(\"P:\", message_lines[i])\n",
        "  print(\"C:\", cipher_lines[i])"
      ],
      "metadata": {
        "colab": {
          "base_uri": "https://localhost:8080/"
        },
        "id": "d3G7U2mRxvWg",
        "outputId": "614b49f3-5e54-45e6-9249-6d9d7e4c17a2"
      },
      "execution_count": null,
      "outputs": [
        {
          "output_type": "stream",
          "name": "stdout",
          "text": [
            "P: because the mwactice of the basic zojezents of gata is\n",
            "C: lrvmnir bpr sumvbwvr jx bpr lmiwv yjeryrkbi jx qmbm wi\n",
            "P: the focus anl zastewy of sedf is the essence of\n",
            "C: bpr xjvni mkd ymibrut jx irhx wi bpr riirkvr jx\n",
            "P: zatsubayashi wyu gawate lo i shadd twy to educilate the\n",
            "C: ymbinlmtmipw utn qmumbr dj w ipmhh but bj rhnvwdmbr bpr\n",
            "P: zojezents of the gata accowlinp to zy intewmwetation\n",
            "C: yjeryrkbi jx bpr qmbm mvvjudwko bj yt wkbrusurbmbwjk\n",
            "P: basel on fowty yeaws of stuly\n",
            "C: lmird jk xjubt trmui jx ibndt\n",
            "P:   it is not an easy tasg to ekmdain each zojezent anl its\n",
            "C:   wb wi kjb mk rmit bmiq bj rashmwk rmvp yjeryrkb mkd wbi\n",
            "P: sipnificance anl soze zust wezain unekmdainel to pije a\n",
            "C: iwokwxwvmkvr mkd ijyr ynib urymwk nkrashmwkrd bj ower m\n",
            "P: cozmdete ekmdanation one voudl haje to be xuadifiel anl\n",
            "C: vjyshrbr rashmkmbwjk jkr cjnhd pmer bj lr fnmhwxwrd mkd\n",
            "P: insmiwel to such an ektent that he coudl weach the state\n",
            "C: wkiswurd bj invp mk rabrkb bpmb pr vjnhd urmvp bpr ibmbr\n",
            "P: of endiphtenel zinl camabde of wecopniqinp sounldess\n",
            "C: jx rkhwopbrkrd ywkd vmsmlhr jx urvjokwgwko ijnkdhrii\n",
            "P: sounl anl shamedess shame i lo not leez zysedf the finad\n",
            "C: ijnkd mkd ipmsrhrii ipmsr w dj kjb drry ytirhx bpr xwkmh\n",
            "P: authowity but zy ekmewience vith gata has deft no loubt\n",
            "C: mnbpjuwbt lnb yt rasruwrkvr cwbp qmbm pmi hrxb kj djnlb\n",
            "P: that the foddovinp is the mwomew ammdication anl\n",
            "C: bpmb bpr xjhhjcwko wi bpr sujsru msshwvmbwjk mkd\n",
            "P: intewmwetation i offew zy theowies in the home that the\n",
            "C: wkbrusurbmbwjk w jxxru yt bprjuwri wk bpr pjsr bpmb bpr\n",
            "P: essence of oginavan gawate vidd wezain intact\n",
            "C: riirkvr jx jqwkmcmk qmumbr cwhh urymwk wkbmvb\n"
          ]
        }
      ]
    },
    {
      "cell_type": "code",
      "source": [
        "print(message)"
      ],
      "metadata": {
        "colab": {
          "base_uri": "https://localhost:8080/"
        },
        "id": "ohGibfqwyU22",
        "outputId": "a659c9e6-cb84-4082-e6bb-56e87fc1e5ec"
      },
      "execution_count": null,
      "outputs": [
        {
          "output_type": "stream",
          "name": "stdout",
          "text": [
            "because the mwactice of the basic zojezents of gata is\n",
            "the focus anl zastewy of sedf is the essence of\n",
            "zatsubayashi wyu gawate lo i shadd twy to educilate the\n",
            "zojezents of the gata accowlinp to zy intewmwetation\n",
            "basel on fowty yeaws of stuly\n",
            "  it is not an easy tasg to ekmdain each zojezent anl its\n",
            "sipnificance anl soze zust wezain unekmdainel to pije a\n",
            "cozmdete ekmdanation one voudl haje to be xuadifiel anl\n",
            "insmiwel to such an ektent that he coudl weach the state\n",
            "of endiphtenel zinl camabde of wecopniqinp sounldess\n",
            "sounl anl shamedess shame i lo not leez zysedf the finad\n",
            "authowity but zy ekmewience vith gata has deft no loubt\n",
            "that the foddovinp is the mwomew ammdication anl\n",
            "intewmwetation i offew zy theowies in the home that the\n",
            "essence of oginavan gawate vidd wezain intact\n"
          ]
        }
      ]
    },
    {
      "cell_type": "code",
      "source": [],
      "metadata": {
        "id": "jVgjwTeTy0In"
      },
      "execution_count": null,
      "outputs": []
    }
  ]
}