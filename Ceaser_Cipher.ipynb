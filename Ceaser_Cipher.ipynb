{
  "nbformat": 4,
  "nbformat_minor": 0,
  "metadata": {
    "colab": {
      "provenance": []
    },
    "kernelspec": {
      "name": "python3",
      "display_name": "Python 3"
    },
    "language_info": {
      "name": "python"
    },
    "accelerator": "GPU",
    "gpuClass": "standard"
  },
  "cells": [
    {
      "cell_type": "code",
      "source": [
        "def generate_key(n):\n",
        "  letters = \"ABCDEFGHIJKLMNOPQRSTUVWXYZ\"\n",
        "  key = {}\n",
        "  cnt = 0\n",
        "  for c in letters:\n",
        "    key[c] = letters[(cnt + n)%len(letters)]\n",
        "    cnt += 1\n",
        "  return key"
      ],
      "metadata": {
        "id": "oWqq6QFG_dcS"
      },
      "execution_count": null,
      "outputs": []
    },
    {
      "cell_type": "code",
      "source": [
        "key = generate_key(3)\n",
        "print(key)"
      ],
      "metadata": {
        "colab": {
          "base_uri": "https://localhost:8080/"
        },
        "id": "QV-YMdRK41er",
        "outputId": "a4212695-f8b5-40dd-a6fb-3f4ddd32e440"
      },
      "execution_count": null,
      "outputs": [
        {
          "output_type": "stream",
          "name": "stdout",
          "text": [
            "{'A': 'D', 'B': 'E', 'C': 'F', 'D': 'G', 'E': 'H', 'F': 'I', 'G': 'J', 'H': 'K', 'I': 'L', 'J': 'M', 'K': 'N', 'L': 'O', 'M': 'P', 'N': 'Q', 'O': 'R', 'P': 'S', 'Q': 'T', 'R': 'U', 'S': 'V', 'T': 'W', 'U': 'X', 'V': 'Y', 'W': 'Z', 'X': 'A', 'Y': 'B', 'Z': 'C'}\n"
          ]
        }
      ]
    },
    {
      "cell_type": "code",
      "source": [
        "def encrypt(key, message):\n",
        "  cipher = \"\"\n",
        "  for c in message:\n",
        "    if c in key:\n",
        "      cipher+= key[c]\n",
        "    else:\n",
        "      cipher += c\n",
        "  return cipher"
      ],
      "metadata": {
        "id": "1GGIb0u_4_PI"
      },
      "execution_count": null,
      "outputs": []
    },
    {
      "cell_type": "code",
      "source": [
        "message = \"YOU ARE AWESOME\""
      ],
      "metadata": {
        "id": "xyqvGoCA5kRT"
      },
      "execution_count": null,
      "outputs": []
    },
    {
      "cell_type": "code",
      "source": [
        "cipher = encrypt(key, message)"
      ],
      "metadata": {
        "id": "Q9XxCsoo5rXQ"
      },
      "execution_count": null,
      "outputs": []
    },
    {
      "cell_type": "code",
      "source": [
        "print(cipher)"
      ],
      "metadata": {
        "colab": {
          "base_uri": "https://localhost:8080/"
        },
        "id": "dwMoRYCR5vpM",
        "outputId": "8ab87ce4-e6e8-41cf-d798-c76b690434a9"
      },
      "execution_count": null,
      "outputs": [
        {
          "output_type": "stream",
          "name": "stdout",
          "text": [
            "BRX DUH DZHVRPH\n"
          ]
        }
      ]
    },
    {
      "cell_type": "code",
      "source": [
        "def decrypt(key, message):\n",
        "  d_key = generate_key(26-3)\n",
        "  decry = encrypt(d_key, cipher)\n",
        "  return decry"
      ],
      "metadata": {
        "id": "rRENVuFy5xSh"
      },
      "execution_count": null,
      "outputs": []
    },
    {
      "cell_type": "code",
      "source": [
        "d = decrypt(key, cipher)"
      ],
      "metadata": {
        "id": "WemzA3B263TY"
      },
      "execution_count": null,
      "outputs": []
    },
    {
      "cell_type": "code",
      "source": [
        "print(d)"
      ],
      "metadata": {
        "colab": {
          "base_uri": "https://localhost:8080/"
        },
        "id": "Rzmmxtz06871",
        "outputId": "8c2e6dae-4827-4ee6-ffc3-0ad3a3297042"
      },
      "execution_count": null,
      "outputs": [
        {
          "output_type": "stream",
          "name": "stdout",
          "text": [
            "YOU ARE AWESOME\n"
          ]
        }
      ]
    },
    {
      "cell_type": "code",
      "source": [
        "def get_decryption_key(key):\n",
        "  dkey = {}\n",
        "  for c in key:\n",
        "    dkey[key[c]] = c\n",
        "  return dkey"
      ],
      "metadata": {
        "id": "Ke7RJzWC69ly"
      },
      "execution_count": null,
      "outputs": []
    },
    {
      "cell_type": "code",
      "source": [
        "dkey = get_decryption_key(key)"
      ],
      "metadata": {
        "id": "3eTqoIXd7Ryr"
      },
      "execution_count": null,
      "outputs": []
    },
    {
      "cell_type": "code",
      "source": [
        "d = encrypt(dkey, cipher)"
      ],
      "metadata": {
        "id": "I2H7ZDZr7VLP"
      },
      "execution_count": null,
      "outputs": []
    },
    {
      "cell_type": "code",
      "source": [
        "print(d)"
      ],
      "metadata": {
        "colab": {
          "base_uri": "https://localhost:8080/"
        },
        "id": "30JuNovI7fik",
        "outputId": "8c646985-b05d-4c60-b8cc-c4d010a9d715"
      },
      "execution_count": null,
      "outputs": [
        {
          "output_type": "stream",
          "name": "stdout",
          "text": [
            "YOU ARE AWESOME\n"
          ]
        }
      ]
    },
    {
      "cell_type": "code",
      "source": [
        "# This is done by the attacker on the cipher"
      ],
      "metadata": {
        "id": "aR89h9XS7jU7"
      },
      "execution_count": null,
      "outputs": []
    },
    {
      "cell_type": "code",
      "source": [
        "cipher"
      ],
      "metadata": {
        "colab": {
          "base_uri": "https://localhost:8080/",
          "height": 35
        },
        "id": "i9BHD-4T-VY4",
        "outputId": "20cd50d0-4865-4f4e-f6e0-0e6a9e00c586"
      },
      "execution_count": null,
      "outputs": [
        {
          "output_type": "execute_result",
          "data": {
            "text/plain": [
              "'BRX DUH DZHVRPH'"
            ],
            "application/vnd.google.colaboratory.intrinsic+json": {
              "type": "string"
            }
          },
          "metadata": {},
          "execution_count": 18
        }
      ]
    },
    {
      "cell_type": "code",
      "source": [
        "for i in range(26):\n",
        "  dkey = generate_key(i)\n",
        "  message = encrypt(dkey, cipher)\n",
        "  print(message)"
      ],
      "metadata": {
        "colab": {
          "base_uri": "https://localhost:8080/"
        },
        "id": "f_3UjAMC-ZWT",
        "outputId": "c205b109-c124-451a-cff9-50ebb9aa4302"
      },
      "execution_count": null,
      "outputs": [
        {
          "output_type": "stream",
          "name": "stdout",
          "text": [
            "BRX DUH DZHVRPH\n",
            "CSY EVI EAIWSQI\n",
            "DTZ FWJ FBJXTRJ\n",
            "EUA GXK GCKYUSK\n",
            "FVB HYL HDLZVTL\n",
            "GWC IZM IEMAWUM\n",
            "HXD JAN JFNBXVN\n",
            "IYE KBO KGOCYWO\n",
            "JZF LCP LHPDZXP\n",
            "KAG MDQ MIQEAYQ\n",
            "LBH NER NJRFBZR\n",
            "MCI OFS OKSGCAS\n",
            "NDJ PGT PLTHDBT\n",
            "OEK QHU QMUIECU\n",
            "PFL RIV RNVJFDV\n",
            "QGM SJW SOWKGEW\n",
            "RHN TKX TPXLHFX\n",
            "SIO ULY UQYMIGY\n",
            "TJP VMZ VRZNJHZ\n",
            "UKQ WNA WSAOKIA\n",
            "VLR XOB XTBPLJB\n",
            "WMS YPC YUCQMKC\n",
            "XNT ZQD ZVDRNLD\n",
            "YOU ARE AWESOME\n",
            "ZPV BSF BXFTPNF\n",
            "AQW CTG CYGUQOG\n"
          ]
        }
      ]
    },
    {
      "cell_type": "code",
      "source": [],
      "metadata": {
        "id": "M34fcTKE-nBH"
      },
      "execution_count": null,
      "outputs": []
    }
  ]
}